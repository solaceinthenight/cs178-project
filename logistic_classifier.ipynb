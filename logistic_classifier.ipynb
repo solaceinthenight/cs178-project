{
 "cells": [
  {
   "cell_type": "code",
   "execution_count": 1,
   "id": "0f8ba12a",
   "metadata": {},
   "outputs": [],
   "source": [
    "import numpy as np\n",
    "import matplotlib.pyplot as plt\n",
    "import torch\n",
    "import torchvision\n",
    "import torchvision.transforms as transforms"
   ]
  },
  {
   "cell_type": "code",
   "execution_count": 2,
   "id": "35752267",
   "metadata": {},
   "outputs": [],
   "source": [
    "# JUST RUN - DO NOT EDIT THIS CODE BLOCK\n",
    "\n",
    "import numpy as np\n",
    "import pandas as pd\n",
    "import math\n",
    "import matplotlib.pyplot as plt\n",
    "\n",
    "from sklearn.datasets import fetch_openml\n",
    "from sklearn.neighbors import KNeighborsClassifier, NearestCentroid\n",
    "from sklearn.metrics import accuracy_score, confusion_matrix, ConfusionMatrixDisplay\n",
    "from sklearn.model_selection import train_test_split\n",
    "from sklearn.inspection import DecisionBoundaryDisplay\n",
    "from sklearn.preprocessing import LabelEncoder\n",
    "from sklearn.linear_model import LogisticRegression\n",
    "from sklearn.feature_extraction.text import CountVectorizer\n",
    "\n",
    "# Fix the random seed for reproducibility\n",
    "# !! Important !! : do not change this\n",
    "seed = 1234\n",
    "np.random.seed(seed)  "
   ]
  },
  {
   "cell_type": "code",
   "execution_count": 3,
   "id": "7594c668",
   "metadata": {},
   "outputs": [
    {
     "name": "stdout",
     "output_type": "stream",
     "text": [
      "Files already downloaded and verified\n",
      "Files already downloaded and verified\n"
     ]
    }
   ],
   "source": [
    "transform = transforms.Compose(\n",
    "    [transforms.ToTensor(),\n",
    "     transforms.Normalize((0.5, 0.5, 0.5), (0.5, 0.5, 0.5))])\n",
    "\n",
    "batch_size = 4\n",
    "\n",
    "trainset = torchvision.datasets.CIFAR10(root='./data', train=True, download=True, transform=transform)\n",
    "trainloader = torch.utils.data.DataLoader(trainset, batch_size=batch_size, shuffle=True, num_workers=2)\n",
    "\n",
    "testset = torchvision.datasets.CIFAR10(root='./data', train=False, download=True, transform=transform)\n",
    "testloader = torch.utils.data.DataLoader(testset, batch_size=batch_size, shuffle=False, num_workers=2)\n",
    "\n",
    "classes = ('plane', 'car', 'bird', 'cat', 'deer', 'dog', 'frog', 'horse', 'ship', 'truck')"
   ]
  },
  {
   "cell_type": "code",
   "execution_count": 4,
   "id": "a56b198f",
   "metadata": {},
   "outputs": [
    {
     "name": "stdout",
     "output_type": "stream",
     "text": [
      "(40000, 32, 32, 3)\n",
      "(40000,)\n",
      "(10000, 32, 32, 3)\n",
      "(10000,)\n",
      "(10000, 32, 32, 3)\n",
      "(10000,)\n"
     ]
    }
   ],
   "source": [
    "trainset_np = np.asarray(trainset.data)\n",
    "trainset_labels = np.asarray(trainset.targets)\n",
    "testset_np = np.asarray(testset.data)\n",
    "testset_labels = np.asarray(testset.targets)\n",
    "\n",
    "validset_np = trainset_np[40000:50000]\n",
    "validset_labels = trainset_labels[40000:50000]\n",
    "trainset_np = trainset_np[0:40000]\n",
    "trainset_labels = trainset_labels[0:40000]\n",
    "print(trainset_np.shape)\n",
    "print(trainset_labels.shape)\n",
    "print(validset_np.shape)\n",
    "print(validset_labels.shape)\n",
    "print(testset_np.shape)\n",
    "print(testset_labels.shape)"
   ]
  },
  {
   "cell_type": "code",
   "execution_count": 5,
   "id": "e659ad2f",
   "metadata": {},
   "outputs": [
    {
     "name": "stdout",
     "output_type": "stream",
     "text": [
      "(40000, 3072)\n",
      "(10000, 3072)\n",
      "(10000, 3072)\n"
     ]
    }
   ],
   "source": [
    "trainset_flattened = np.empty((40000,3072))\n",
    "validset_flattened = np.empty((10000,3072))\n",
    "testset_flattened = np.empty((10000,3072))\n",
    "\n",
    "for i in range (trainset_np.shape[0]):\n",
    "    trainset_flattened[i] = trainset_np[i].flatten()\n",
    "\n",
    "for i in range (validset_np.shape[0]):\n",
    "    validset_flattened[i] = validset_np[i].flatten()\n",
    "\n",
    "for i in range (testset_np.shape[0]):\n",
    "    testset_flattened[i] = testset_np[i].flatten()\n",
    "\n",
    "print(trainset_flattened.shape)\n",
    "print(validset_flattened.shape)\n",
    "print(testset_flattened.shape)"
   ]
  },
  {
   "cell_type": "code",
   "execution_count": 11,
   "id": "549b83bf",
   "metadata": {},
   "outputs": [
    {
     "name": "stderr",
     "output_type": "stream",
     "text": [
      "c:\\Users\\nsavd\\anaconda3\\envs\\cs178\\lib\\site-packages\\sklearn\\linear_model\\_sag.py:350: ConvergenceWarning: The max_iter was reached which means the coef_ did not converge\n",
      "  warnings.warn(\n"
     ]
    },
    {
     "name": "stdout",
     "output_type": "stream",
     "text": [
      "Training accuracy:  0.448475\n",
      "Validation accuracy:  0.4009\n",
      "Test accuracy:  0.4041\n"
     ]
    }
   ],
   "source": [
    "model = LogisticRegression(random_state=seed, max_iter=10, solver='saga', fit_intercept=True, penalty='l2')\n",
    "model.fit(trainset_flattened, trainset_labels)\n",
    "\n",
    "print(\"Training accuracy: \", model.score(trainset_flattened, trainset_labels))\n",
    "print(\"Validation accuracy: \", model.score(validset_flattened, validset_labels))\n",
    "print(\"Test accuracy: \", model.score(testset_flattened, testset_labels))"
   ]
  },
  {
   "cell_type": "code",
   "execution_count": 6,
   "id": "600f1558",
   "metadata": {},
   "outputs": [
    {
     "name": "stderr",
     "output_type": "stream",
     "text": [
      "c:\\Users\\nsavd\\anaconda3\\envs\\cs178\\lib\\site-packages\\sklearn\\linear_model\\_logistic.py:1173: FutureWarning: `penalty='none'`has been deprecated in 1.2 and will be removed in 1.4. To keep the past behaviour, set `penalty=None`.\n",
      "  warnings.warn(\n",
      "c:\\Users\\nsavd\\anaconda3\\envs\\cs178\\lib\\site-packages\\sklearn\\linear_model\\_sag.py:350: ConvergenceWarning: The max_iter was reached which means the coef_ did not converge\n",
      "  warnings.warn(\n",
      "c:\\Users\\nsavd\\anaconda3\\envs\\cs178\\lib\\site-packages\\sklearn\\linear_model\\_sag.py:350: ConvergenceWarning: The max_iter was reached which means the coef_ did not converge\n",
      "  warnings.warn(\n",
      "c:\\Users\\nsavd\\anaconda3\\envs\\cs178\\lib\\site-packages\\sklearn\\linear_model\\_sag.py:350: ConvergenceWarning: The max_iter was reached which means the coef_ did not converge\n",
      "  warnings.warn(\n",
      "c:\\Users\\nsavd\\anaconda3\\envs\\cs178\\lib\\site-packages\\sklearn\\linear_model\\_sag.py:350: ConvergenceWarning: The max_iter was reached which means the coef_ did not converge\n",
      "  warnings.warn(\n",
      "c:\\Users\\nsavd\\anaconda3\\envs\\cs178\\lib\\site-packages\\sklearn\\linear_model\\_sag.py:350: ConvergenceWarning: The max_iter was reached which means the coef_ did not converge\n",
      "  warnings.warn(\n"
     ]
    },
    {
     "data": {
      "text/plain": [
       "<matplotlib.legend.Legend at 0x2413e18e200>"
      ]
     },
     "execution_count": 6,
     "metadata": {},
     "output_type": "execute_result"
    },
    {
     "data": {
      "image/png": "[encoded data removed]",
      "text/plain": [
       "<Figure size 640x480 with 1 Axes>"
      ]
     },
     "metadata": {},
     "output_type": "display_data"
    }
   ],
   "source": [
    "coefs_ = []\n",
    "train_accuracies = []\n",
    "valid_accuracies = []\n",
    "cs = [0, 0.1, 1, 10, 50]\n",
    "\n",
    "for c in cs:\n",
    "    if c == 0:\n",
    "        classifier = LogisticRegression(random_state=seed, max_iter=10, solver='sag', penalty='none', fit_intercept=True)\n",
    "    else:\n",
    "        classifier = LogisticRegression(random_state=seed, max_iter=10, penalty='l2', solver='sag', fit_intercept=True, C=1/c)\n",
    "\n",
    "    classifier.fit(trainset_flattened, trainset_labels)\n",
    "    coefs_.append(classifier.coef_[0])\n",
    "    \n",
    "    train_accuracies.append(classifier.score(trainset_flattened, trainset_labels))\n",
    "    valid_accuracies.append(classifier.score(validset_flattened, validset_labels))\n",
    "\n",
    "fig, axes = plt.subplots()\n",
    "axes.semilogx(cs, train_accuracies, color='red', label='training accuracy')\n",
    "axes.semilogx(cs, valid_accuracies, color='blue', label='validation accuracy')\n",
    "axes.set_xlabel('regulaization strength', fontsize=14)\n",
    "axes.set_ylabel('accuracy', fontsize=14)\n",
    "axes.legend()"
   ]
  },
  {
   "cell_type": "code",
   "execution_count": 7,
   "id": "985d159e",
   "metadata": {},
   "outputs": [
    {
     "name": "stdout",
     "output_type": "stream",
     "text": [
      "Training accuracy:  [0.448475, 0.448475, 0.448475, 0.448475, 0.448475]\n",
      "Validation accuracy:  [0.4009, 0.4009, 0.4009, 0.4009, 0.4009]\n"
     ]
    }
   ],
   "source": [
    "print(\"Training accuracy: \", train_accuracies)\n",
    "print(\"Validation accuracy: \", valid_accuracies)"
   ]
  },
  {
   "cell_type": "code",
   "execution_count": 8,
   "id": "ce65e6cb",
   "metadata": {},
   "outputs": [
    {
     "name": "stderr",
     "output_type": "stream",
     "text": [
      "c:\\Users\\nsavd\\anaconda3\\envs\\cs178\\lib\\site-packages\\sklearn\\linear_model\\_sag.py:350: ConvergenceWarning: The max_iter was reached which means the coef_ did not converge\n",
      "  warnings.warn(\n"
     ]
    },
    {
     "name": "stdout",
     "output_type": "stream",
     "text": [
      "Training accuracy:  0.4778\n",
      "Validation accuracy:  0.3903\n"
     ]
    }
   ],
   "source": [
    "model = LogisticRegression(random_state=seed, max_iter=100, solver='saga', fit_intercept=True, penalty='l2')\n",
    "model.fit(trainset_flattened, trainset_labels)\n",
    "\n",
    "print(\"Training accuracy: \", model.score(trainset_flattened, trainset_labels))\n",
    "print(\"Validation accuracy: \", model.score(validset_flattened, validset_labels))"
   ]
  },
  {
   "cell_type": "code",
   "execution_count": 9,
   "id": "14cb2754",
   "metadata": {},
   "outputs": [
    {
     "name": "stdout",
     "output_type": "stream",
     "text": [
      "Test accuracy:  0.3918\n"
     ]
    }
   ],
   "source": [
    "print(\"Test accuracy: \", model.score(testset_flattened, testset_labels))"
   ]
  }
 ],
 "metadata": {
  "kernelspec": {
   "display_name": "Python 3 (ipykernel)",
   "language": "python",
   "name": "python3"
  },
  "language_info": {
   "codemirror_mode": {
    "name": "ipython",
    "version": 3
   },
   "file_extension": ".py",
   "mimetype": "text/x-python",
   "name": "python",
   "nbconvert_exporter": "python",
   "pygments_lexer": "ipython3",
   "version": "3.10.6"
  }
 },
 "nbformat": 4,
 "nbformat_minor": 5
}
